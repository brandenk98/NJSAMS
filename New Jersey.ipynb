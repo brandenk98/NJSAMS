{
 "cells": [
  {
   "cell_type": "markdown",
   "metadata": {},
   "source": [
    "# First data dive in NJ Data from NJSAMS #"
   ]
  },
  {
   "cell_type": "markdown",
   "metadata": {},
   "source": [
    "###### Librays used"
   ]
  },
  {
   "cell_type": "code",
   "execution_count": 1,
   "metadata": {},
   "outputs": [],
   "source": [
    "import pandas as pd\n",
    "import matplotlib.pyplot as plt\n",
    "import numpy as np"
   ]
  },
  {
   "cell_type": "markdown",
   "metadata": {},
   "source": [
    "#### NJ 2015-2016"
   ]
  },
  {
   "cell_type": "code",
   "execution_count": 2,
   "metadata": {},
   "outputs": [
    {
     "data": {
      "text/html": [
       "<div>\n",
       "<style scoped>\n",
       "    .dataframe tbody tr th:only-of-type {\n",
       "        vertical-align: middle;\n",
       "    }\n",
       "\n",
       "    .dataframe tbody tr th {\n",
       "        vertical-align: top;\n",
       "    }\n",
       "\n",
       "    .dataframe thead th {\n",
       "        text-align: right;\n",
       "    }\n",
       "</style>\n",
       "<table border=\"1\" class=\"dataframe\">\n",
       "  <thead>\n",
       "    <tr style=\"text-align: right;\">\n",
       "      <th></th>\n",
       "      <th>Unnamed: 0</th>\n",
       "      <th>Unnamed: 1</th>\n",
       "      <th>Topic</th>\n",
       "      <th>Total</th>\n",
       "      <th>Percent Mode</th>\n",
       "    </tr>\n",
       "  </thead>\n",
       "  <tbody>\n",
       "    <tr>\n",
       "      <td>0</td>\n",
       "      <td>Primary Drug</td>\n",
       "      <td>0</td>\n",
       "      <td>Alcohol               ...</td>\n",
       "      <td>17832</td>\n",
       "      <td>25.7</td>\n",
       "    </tr>\n",
       "    <tr>\n",
       "      <td>1</td>\n",
       "      <td>Primary Drug</td>\n",
       "      <td>1</td>\n",
       "      <td>Heroin &amp; Other Opiates...</td>\n",
       "      <td>32600</td>\n",
       "      <td>46.9</td>\n",
       "    </tr>\n",
       "    <tr>\n",
       "      <td>2</td>\n",
       "      <td>Primary Drug</td>\n",
       "      <td>2</td>\n",
       "      <td>Cocaine/Crack         ...</td>\n",
       "      <td>3396</td>\n",
       "      <td>4.9</td>\n",
       "    </tr>\n",
       "    <tr>\n",
       "      <td>3</td>\n",
       "      <td>Primary Drug</td>\n",
       "      <td>3</td>\n",
       "      <td>Marijuana             ...</td>\n",
       "      <td>10235</td>\n",
       "      <td>14.7</td>\n",
       "    </tr>\n",
       "    <tr>\n",
       "      <td>4</td>\n",
       "      <td>Primary Drug</td>\n",
       "      <td>4</td>\n",
       "      <td>Other Drugs           ...</td>\n",
       "      <td>5315</td>\n",
       "      <td>7.6</td>\n",
       "    </tr>\n",
       "    <tr>\n",
       "      <td>...</td>\n",
       "      <td>...</td>\n",
       "      <td>...</td>\n",
       "      <td>...</td>\n",
       "      <td>...</td>\n",
       "      <td>...</td>\n",
       "    </tr>\n",
       "    <tr>\n",
       "      <td>78</td>\n",
       "      <td>Months</td>\n",
       "      <td>78</td>\n",
       "      <td>August                ...</td>\n",
       "      <td>5595</td>\n",
       "      <td>8.0</td>\n",
       "    </tr>\n",
       "    <tr>\n",
       "      <td>79</td>\n",
       "      <td>Months</td>\n",
       "      <td>79</td>\n",
       "      <td>September             ...</td>\n",
       "      <td>5663</td>\n",
       "      <td>8.1</td>\n",
       "    </tr>\n",
       "    <tr>\n",
       "      <td>80</td>\n",
       "      <td>Months</td>\n",
       "      <td>80</td>\n",
       "      <td>October               ...</td>\n",
       "      <td>6017</td>\n",
       "      <td>8.7</td>\n",
       "    </tr>\n",
       "    <tr>\n",
       "      <td>81</td>\n",
       "      <td>Months</td>\n",
       "      <td>81</td>\n",
       "      <td>November              ...</td>\n",
       "      <td>5381</td>\n",
       "      <td>7.7</td>\n",
       "    </tr>\n",
       "    <tr>\n",
       "      <td>82</td>\n",
       "      <td>Months</td>\n",
       "      <td>82</td>\n",
       "      <td>December              ...</td>\n",
       "      <td>5808</td>\n",
       "      <td>8.4</td>\n",
       "    </tr>\n",
       "  </tbody>\n",
       "</table>\n",
       "<p>83 rows × 5 columns</p>\n",
       "</div>"
      ],
      "text/plain": [
       "      Unnamed: 0  Unnamed: 1  \\\n",
       "0   Primary Drug           0   \n",
       "1   Primary Drug           1   \n",
       "2   Primary Drug           2   \n",
       "3   Primary Drug           3   \n",
       "4   Primary Drug           4   \n",
       "..           ...         ...   \n",
       "78        Months          78   \n",
       "79        Months          79   \n",
       "80        Months          80   \n",
       "81        Months          81   \n",
       "82        Months          82   \n",
       "\n",
       "                                                Topic  Total  Percent Mode  \n",
       "0                           Alcohol               ...  17832          25.7  \n",
       "1                           Heroin & Other Opiates...  32600          46.9  \n",
       "2                           Cocaine/Crack         ...   3396           4.9  \n",
       "3                           Marijuana             ...  10235          14.7  \n",
       "4                           Other Drugs           ...   5315           7.6  \n",
       "..                                                ...    ...           ...  \n",
       "78                          August                ...   5595           8.0  \n",
       "79                          September             ...   5663           8.1  \n",
       "80                          October               ...   6017           8.7  \n",
       "81                          November              ...   5381           7.7  \n",
       "82                          December              ...   5808           8.4  \n",
       "\n",
       "[83 rows x 5 columns]"
      ]
     },
     "execution_count": 2,
     "metadata": {},
     "output_type": "execute_result"
    }
   ],
   "source": [
    "#reading 2015-2016 data\n",
    "NJ15_16 = pd.read_csv('./Entire_State/2015-2016_NJ.csv')\n",
    "NJ15_16"
   ]
  },
  {
   "cell_type": "markdown",
   "metadata": {},
   "source": [
    "###### Cleaning up  Data"
   ]
  },
  {
   "cell_type": "code",
   "execution_count": 3,
   "metadata": {},
   "outputs": [
    {
     "data": {
      "text/html": [
       "<div>\n",
       "<style scoped>\n",
       "    .dataframe tbody tr th:only-of-type {\n",
       "        vertical-align: middle;\n",
       "    }\n",
       "\n",
       "    .dataframe tbody tr th {\n",
       "        vertical-align: top;\n",
       "    }\n",
       "\n",
       "    .dataframe thead th {\n",
       "        text-align: right;\n",
       "    }\n",
       "</style>\n",
       "<table border=\"1\" class=\"dataframe\">\n",
       "  <thead>\n",
       "    <tr style=\"text-align: right;\">\n",
       "      <th></th>\n",
       "      <th>Subject</th>\n",
       "      <th>Topic</th>\n",
       "      <th>Total</th>\n",
       "      <th>Percent Mode</th>\n",
       "    </tr>\n",
       "  </thead>\n",
       "  <tbody>\n",
       "    <tr>\n",
       "      <td>0</td>\n",
       "      <td>Primary Drug</td>\n",
       "      <td>Alcohol</td>\n",
       "      <td>17832</td>\n",
       "      <td>25.7</td>\n",
       "    </tr>\n",
       "    <tr>\n",
       "      <td>1</td>\n",
       "      <td>Primary Drug</td>\n",
       "      <td>Heroin &amp; Other Opiates</td>\n",
       "      <td>32600</td>\n",
       "      <td>46.9</td>\n",
       "    </tr>\n",
       "    <tr>\n",
       "      <td>2</td>\n",
       "      <td>Primary Drug</td>\n",
       "      <td>Cocaine/Crack</td>\n",
       "      <td>3396</td>\n",
       "      <td>4.9</td>\n",
       "    </tr>\n",
       "    <tr>\n",
       "      <td>3</td>\n",
       "      <td>Primary Drug</td>\n",
       "      <td>Marijuana</td>\n",
       "      <td>10235</td>\n",
       "      <td>14.7</td>\n",
       "    </tr>\n",
       "    <tr>\n",
       "      <td>4</td>\n",
       "      <td>Primary Drug</td>\n",
       "      <td>Other Drugs</td>\n",
       "      <td>5315</td>\n",
       "      <td>7.6</td>\n",
       "    </tr>\n",
       "    <tr>\n",
       "      <td>...</td>\n",
       "      <td>...</td>\n",
       "      <td>...</td>\n",
       "      <td>...</td>\n",
       "      <td>...</td>\n",
       "    </tr>\n",
       "    <tr>\n",
       "      <td>78</td>\n",
       "      <td>Months</td>\n",
       "      <td>August</td>\n",
       "      <td>5595</td>\n",
       "      <td>8.0</td>\n",
       "    </tr>\n",
       "    <tr>\n",
       "      <td>79</td>\n",
       "      <td>Months</td>\n",
       "      <td>September</td>\n",
       "      <td>5663</td>\n",
       "      <td>8.1</td>\n",
       "    </tr>\n",
       "    <tr>\n",
       "      <td>80</td>\n",
       "      <td>Months</td>\n",
       "      <td>October</td>\n",
       "      <td>6017</td>\n",
       "      <td>8.7</td>\n",
       "    </tr>\n",
       "    <tr>\n",
       "      <td>81</td>\n",
       "      <td>Months</td>\n",
       "      <td>November</td>\n",
       "      <td>5381</td>\n",
       "      <td>7.7</td>\n",
       "    </tr>\n",
       "    <tr>\n",
       "      <td>82</td>\n",
       "      <td>Months</td>\n",
       "      <td>December</td>\n",
       "      <td>5808</td>\n",
       "      <td>8.4</td>\n",
       "    </tr>\n",
       "  </tbody>\n",
       "</table>\n",
       "<p>83 rows × 4 columns</p>\n",
       "</div>"
      ],
      "text/plain": [
       "         Subject                   Topic  Total  Percent Mode\n",
       "0   Primary Drug                 Alcohol  17832          25.7\n",
       "1   Primary Drug  Heroin & Other Opiates  32600          46.9\n",
       "2   Primary Drug           Cocaine/Crack   3396           4.9\n",
       "3   Primary Drug               Marijuana  10235          14.7\n",
       "4   Primary Drug             Other Drugs   5315           7.6\n",
       "..           ...                     ...    ...           ...\n",
       "78        Months                  August   5595           8.0\n",
       "79        Months               September   5663           8.1\n",
       "80        Months                 October   6017           8.7\n",
       "81        Months                November   5381           7.7\n",
       "82        Months                December   5808           8.4\n",
       "\n",
       "[83 rows x 4 columns]"
      ]
     },
     "execution_count": 3,
     "metadata": {},
     "output_type": "execute_result"
    }
   ],
   "source": [
    "#have to get rid of unwanted spaces\n",
    "\n",
    "NJ15_16['Topic'] = NJ15_16['Topic'].str.replace(r'                        ', '')\n",
    "NJ15_16['Topic'] = NJ15_16['Topic'].str.replace(r'                    ', '')\n",
    "\n",
    "#need to drop a column\n",
    "NJ15_16 = NJ15_16.drop(columns=['Unnamed: 1']).rename(columns={\"Unnamed: 0\":\"Subject\"})\n",
    "NJ15_16"
   ]
  },
  {
   "cell_type": "markdown",
   "metadata": {},
   "source": [
    "#### Extracting only Primary Drug data"
   ]
  },
  {
   "cell_type": "code",
   "execution_count": 4,
   "metadata": {},
   "outputs": [
    {
     "data": {
      "text/html": [
       "<div>\n",
       "<style scoped>\n",
       "    .dataframe tbody tr th:only-of-type {\n",
       "        vertical-align: middle;\n",
       "    }\n",
       "\n",
       "    .dataframe tbody tr th {\n",
       "        vertical-align: top;\n",
       "    }\n",
       "\n",
       "    .dataframe thead th {\n",
       "        text-align: right;\n",
       "    }\n",
       "</style>\n",
       "<table border=\"1\" class=\"dataframe\">\n",
       "  <thead>\n",
       "    <tr style=\"text-align: right;\">\n",
       "      <th></th>\n",
       "      <th>Subject</th>\n",
       "      <th>Topic</th>\n",
       "      <th>Total</th>\n",
       "      <th>Percent Mode</th>\n",
       "    </tr>\n",
       "  </thead>\n",
       "  <tbody>\n",
       "    <tr>\n",
       "      <td>0</td>\n",
       "      <td>Primary Drug</td>\n",
       "      <td>Alcohol</td>\n",
       "      <td>17832</td>\n",
       "      <td>25.7</td>\n",
       "    </tr>\n",
       "    <tr>\n",
       "      <td>1</td>\n",
       "      <td>Primary Drug</td>\n",
       "      <td>Heroin &amp; Other Opiates</td>\n",
       "      <td>32600</td>\n",
       "      <td>46.9</td>\n",
       "    </tr>\n",
       "    <tr>\n",
       "      <td>2</td>\n",
       "      <td>Primary Drug</td>\n",
       "      <td>Cocaine/Crack</td>\n",
       "      <td>3396</td>\n",
       "      <td>4.9</td>\n",
       "    </tr>\n",
       "    <tr>\n",
       "      <td>3</td>\n",
       "      <td>Primary Drug</td>\n",
       "      <td>Marijuana</td>\n",
       "      <td>10235</td>\n",
       "      <td>14.7</td>\n",
       "    </tr>\n",
       "    <tr>\n",
       "      <td>4</td>\n",
       "      <td>Primary Drug</td>\n",
       "      <td>Other Drugs</td>\n",
       "      <td>5315</td>\n",
       "      <td>7.6</td>\n",
       "    </tr>\n",
       "    <tr>\n",
       "      <td>5</td>\n",
       "      <td>Primary Drug</td>\n",
       "      <td>Intavenous Drug Users</td>\n",
       "      <td>20852</td>\n",
       "      <td>30.0</td>\n",
       "    </tr>\n",
       "  </tbody>\n",
       "</table>\n",
       "</div>"
      ],
      "text/plain": [
       "        Subject                   Topic  Total  Percent Mode\n",
       "0  Primary Drug                 Alcohol  17832          25.7\n",
       "1  Primary Drug  Heroin & Other Opiates  32600          46.9\n",
       "2  Primary Drug           Cocaine/Crack   3396           4.9\n",
       "3  Primary Drug               Marijuana  10235          14.7\n",
       "4  Primary Drug             Other Drugs   5315           7.6\n",
       "5  Primary Drug   Intavenous Drug Users  20852          30.0"
      ]
     },
     "execution_count": 4,
     "metadata": {},
     "output_type": "execute_result"
    }
   ],
   "source": [
    "#just pulling all the  primary drug users\n",
    "NJ15_16Drugs = NJ15_16.loc[NJ15_16['Subject'] == 'Primary Drug']\n",
    "NJ15_16Drugs"
   ]
  },
  {
   "cell_type": "markdown",
   "metadata": {},
   "source": [
    "# Bar Graph for  Primary Drug"
   ]
  },
  {
   "cell_type": "code",
   "execution_count": 5,
   "metadata": {},
   "outputs": [
    {
     "data": {
      "image/png": "[encoded data removed]",
      "text/plain": [
       "<Figure size 432x288 with 1 Axes>"
      ]
     },
     "metadata": {
      "needs_background": "light"
     },
     "output_type": "display_data"
    }
   ],
   "source": [
    "fig = plt.figure()\n",
    "ax = fig.add_axes([0,0,1,1])\n",
    "DrugType = NJ15_16Drugs['Topic']\n",
    "Total = NJ15_16Drugs['Total']\n",
    "plt.bar(DrugType,Total)\n",
    "plt.xlabel('Drug Type')\n",
    "\n",
    "plt.xticks(rotation=90, ha='right')\n",
    "\n",
    "#plt.xticks(DrugType,rotation='vertical')\n",
    "plt.ylabel('Total Users for Drug')\n",
    "plt.title('NJ 2015-16 Drug Users')\n",
    "plt.show()"
   ]
  },
  {
   "cell_type": "markdown",
   "metadata": {},
   "source": [
    "## Bar graph for all years"
   ]
  },
  {
   "cell_type": "markdown",
   "metadata": {},
   "source": [
    "#### First need to get extract and clean all data"
   ]
  },
  {
   "cell_type": "code",
   "execution_count": 6,
   "metadata": {},
   "outputs": [],
   "source": [
    "#year 2016-17\n",
    "NJ16_17 = pd.read_csv('./Entire_State/2016-2017_NJ.csv')\n",
    "NJ16_17['Topic'] = NJ16_17['Topic'].str.replace(r'                        ', '')\n",
    "NJ16_17['Topic'] = NJ16_17['Topic'].str.replace(r'                    ', '')\n",
    "\n",
    "#need to drop a column\n",
    "NJ16_17 = NJ16_17.drop(columns=['Unnamed: 1']).rename(columns={\"Unnamed: 0\":\"Subject\"})\n",
    "#NJ16_17"
   ]
  },
  {
   "cell_type": "code",
   "execution_count": 7,
   "metadata": {},
   "outputs": [],
   "source": [
    "#year 2017-18\n",
    "NJ17_18 = pd.read_csv('./Entire_State/2017-2018_NJ.csv')\n",
    "NJ17_18['Topic'] = NJ17_18['Topic'].str.replace(r'                        ', '')\n",
    "NJ17_18['Topic'] = NJ17_18['Topic'].str.replace(r'                    ', '')\n",
    "\n",
    "#need to drop a column\n",
    "NJ17_18 = NJ17_18.drop(columns=['Unnamed: 1']).rename(columns={\"Unnamed: 0\":\"Subject\"})\n",
    "#NJ17_18"
   ]
  },
  {
   "cell_type": "code",
   "execution_count": 8,
   "metadata": {},
   "outputs": [],
   "source": [
    "#year 2018-19\n",
    "NJ18_19 = pd.read_csv('./Entire_State/2018-2019_NJ.csv')\n",
    "NJ18_19['Topic'] = NJ18_19['Topic'].str.replace(r'                        ', '')\n",
    "NJ18_19['Topic'] = NJ18_19['Topic'].str.replace(r'                    ', '')\n",
    "\n",
    "#need to drop a column\n",
    "NJ18_19 = NJ18_19.drop(columns=['Unnamed: 1']).rename(columns={\"Unnamed: 0\":\"Subject\"})\n",
    "#NJ18_19"
   ]
  },
  {
   "cell_type": "code",
   "execution_count": 9,
   "metadata": {},
   "outputs": [],
   "source": [
    "#year 2019-20\n",
    "NJ19_20 = pd.read_csv('./Entire_State/2019-2020_NJ.csv')\n",
    "NJ19_20['Topic'] = NJ19_20['Topic'].str.replace(r'                        ', '')\n",
    "NJ19_20['Topic'] = NJ19_20['Topic'].str.replace(r'                    ', '')\n",
    "\n",
    "#need to drop a column\n",
    "NJ19_20 = NJ19_20.drop(columns=['Unnamed: 1']).rename(columns={\"Unnamed: 0\":\"Subject\"})\n",
    "#NJ19_20"
   ]
  },
  {
   "cell_type": "code",
   "execution_count": 10,
   "metadata": {},
   "outputs": [],
   "source": [
    "#year 2020-21\n",
    "NJ20_21 = pd.read_csv('./Entire_State/2020-2021_NJ.csv')\n",
    "NJ20_21['Topic'] = NJ20_21['Topic'].str.replace(r'                        ', '')\n",
    "NJ20_21['Topic'] = NJ20_21['Topic'].str.replace(r'                    ', '')\n",
    "\n",
    "#need to drop a column\n",
    "NJ20_21 = NJ20_21.drop(columns=['Unnamed: 1']).rename(columns={\"Unnamed: 0\":\"Subject\"})\n",
    "#NJ20_21"
   ]
  },
  {
   "cell_type": "code",
   "execution_count": 11,
   "metadata": {},
   "outputs": [],
   "source": [
    "# All Years\n",
    "NJ15_21 = pd.read_csv('./Entire_State/allYears_NJ.csv')\n",
    "NJ15_21['Topic'] = NJ15_21['Topic'].str.replace(r'                        ', '')\n",
    "NJ15_21['Topic'] = NJ15_21['Topic'].str.replace(r'                    ', '')\n",
    "\n",
    "#need to drop a column\n",
    "NJ15_21 = NJ15_21.drop(columns=['Unnamed: 1']).rename(columns={\"Unnamed: 0\":\"Subject\"})\n",
    "#NJ15_21"
   ]
  },
  {
   "cell_type": "markdown",
   "metadata": {},
   "source": [
    "### Creating Bar  Graph"
   ]
  },
  {
   "cell_type": "markdown",
   "metadata": {},
   "source": [
    "##### locate Primary drug section for all years"
   ]
  },
  {
   "cell_type": "code",
   "execution_count": 12,
   "metadata": {},
   "outputs": [],
   "source": [
    "\n",
    "NJ16_17Drugs = NJ16_17.loc[NJ16_17['Subject'] == 'Primary Drug']\n",
    "\n",
    "NJ17_18Drugs = NJ17_18.loc[NJ17_18['Subject'] == 'Primary Drug']\n",
    "\n",
    "NJ18_19Drugs = NJ18_19.loc[NJ18_19['Subject'] == 'Primary Drug']\n",
    "\n",
    "NJ19_20Drugs = NJ19_20.loc[NJ19_20['Subject'] == 'Primary Drug']\n",
    "\n",
    "NJ20_21Drugs = NJ20_21.loc[NJ20_21['Subject'] == 'Primary Drug']\n",
    "\n",
    "NJ15_21Drugs = NJ15_21.loc[NJ15_21['Subject'] == 'Primary Drug']\n"
   ]
  },
  {
   "cell_type": "markdown",
   "metadata": {},
   "source": [
    "# Bargraph using Matplotlib"
   ]
  },
  {
   "cell_type": "code",
   "execution_count": 13,
   "metadata": {},
   "outputs": [
    {
     "data": {
      "image/png": "[encoded data removed]",
      "text/plain": [
       "<Figure size 720x360 with 1 Axes>"
      ]
     },
     "metadata": {},
     "output_type": "display_data"
    }
   ],
   "source": [
    "#background to dark\n",
    "plt.style.use(['dark_background'])\n",
    "\n",
    "#Number of bars paired together\n",
    "N = 6\n",
    "\n",
    "#specify values\n",
    "orange_bar0 = NJ15_16Drugs['Total']\n",
    "orange_bar1 = NJ16_17Drugs['Total']\n",
    "orange_bar2 = NJ17_18Drugs['Total']\n",
    "orange_bar3 = NJ18_19Drugs['Total']\n",
    "orange_bar4 = NJ19_20Drugs['Total']\n",
    "orange_bar5 = NJ20_21Drugs['Total']\n",
    "orange_bar6 = NJ15_21Drugs['Total']\n",
    "\n",
    "#positionof bars on x-axis\n",
    "ind = np.arange(N)\n",
    "\n",
    "#figure size\n",
    "plt.figure(figsize=(10,5))\n",
    "\n",
    "#width of bar\n",
    "width = 0.1\n",
    "\n",
    "#plotting\n",
    "\n",
    "plt.bar(ind, orange_bar0, width, label='2015-2016')\n",
    "plt.bar(ind + width, orange_bar1, width, label='2016-2017')\n",
    "plt.bar(ind + width + width, orange_bar2, width, label='2017-2018')\n",
    "plt.bar(ind + width + width + width, orange_bar3, width, label='2018-2019')\n",
    "plt.bar(ind + width + width + width +width, orange_bar4, width, label='2019-2020')\n",
    "plt.bar(ind + width + width + width +width +width, orange_bar5, width, label='2020-2021')\n",
    "plt.bar(ind + width + width + width +width +width +width, orange_bar6, width, label='2015-2021')\n",
    "\n",
    "\n",
    "plt.xlabel('Drug  Type')\n",
    "plt.ylabel('Total Number of Users')\n",
    "plt.title('NJ Drug Use')\n",
    "\n",
    "# xticks()\n",
    "# First argument - A list of positions at which ticks should be placed\n",
    "# Second argument -  A list of labels to place at the given locations\n",
    "plt.xticks(ind + width / 2, ('Alcohol', 'Heroin/Opiates', 'Cocaine/Crack','Marijuana', 'Other Drugs','Intavenous'),rotation=90)\n",
    "\n",
    "# Finding the best position for legends and putting it\n",
    "plt.legend(loc=\"lower center\", bbox_to_anchor=(0.5, 1.15), ncol=3)\n",
    "\n",
    "\n",
    "plt.show()\n"
   ]
  },
  {
   "cell_type": "code",
   "execution_count": null,
   "metadata": {},
   "outputs": [],
   "source": []
  }
 ],
 "metadata": {
  "kernelspec": {
   "display_name": "Python 3",
   "language": "python",
   "name": "python3"
  },
  "language_info": {
   "codemirror_mode": {
    "name": "ipython",
    "version": 3
   },
   "file_extension": ".py",
   "mimetype": "text/x-python",
   "name": "python",
   "nbconvert_exporter": "python",
   "pygments_lexer": "ipython3",
   "version": "3.7.4"
  }
 },
 "nbformat": 4,
 "nbformat_minor": 2
}
